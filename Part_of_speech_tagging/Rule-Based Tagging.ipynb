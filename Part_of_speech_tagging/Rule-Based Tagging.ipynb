{
 "cells": [
  {
   "cell_type": "code",
   "execution_count": 2,
   "id": "a774e799",
   "metadata": {},
   "outputs": [
    {
     "name": "stdout",
     "output_type": "stream",
     "text": [
      "Rule-Based POS Tags: [('The', 'DT'), ('quick', 'JJ'), ('brown', 'JJ'), ('fox', 'NN'), ('jumps', 'VBZ'), ('over', 'IN'), ('the', 'DT'), ('lazy', 'JJ'), ('dog.', 'NN')]\n"
     ]
    }
   ],
   "source": [
    "# Define a list of sample words with their possible suffixes and associated POS tags\n",
    "suffix_rules = {\n",
    "    'ing': 'VBG',   # Present\n",
    "    'ed': 'VBD',    # Past Tense\n",
    "    's': 'NNS',     # Plural Noun\n",
    "    'es': 'VBZ',    # Verb, 3rd person singular present\n",
    "    'ly': 'RB',     # Adverb\n",
    "    'able': 'JJ',   # Adjective\n",
    "    'ible': 'JJ',   # Adjective\n",
    "    'ness': 'NN',   # Noun\n",
    "    'ment': 'NN',   # Noun\n",
    "}\n",
    "\n",
    "# Define a list of predefined words with their associated POS tags\n",
    "word_rules = {\n",
    "    'the': 'DT',     # Determiner\n",
    "    'quick': 'JJ',   # Adjective\n",
    "    'brown': 'JJ',   # Adjective\n",
    "    'fox': 'NN',     # Noun\n",
    "    'jumps': 'VBZ',  # Verb, 3rd person singular present\n",
    "    'over': 'IN',    # Preposition\n",
    "    'lazy': 'JJ',    # Adjective\n",
    "    'dog': 'NN',     # Noun\n",
    "}\n",
    "\n",
    "def rule_based_tagger(word):\n",
    "    # Check if the word is in the predefined word list\n",
    "    if word in word_rules:\n",
    "        return word_rules[word]\n",
    "    \n",
    "    # Check suffix rules\n",
    "    for suffix, tag in suffix_rules.items():\n",
    "        if word.endswith(suffix):\n",
    "            return tag\n",
    "    \n",
    "    # Default to noun if no rules match\n",
    "    return 'NN'\n",
    "\n",
    "# Sample sentence\n",
    "sentence = \"The quick brown fox jumps over the lazy dog.\"\n",
    "\n",
    "# Tokenize the sentence into words\n",
    "words = sentence.split()\n",
    "\n",
    "# Tag each word using the rule-based tagger\n",
    "pos_tags = [(word, rule_based_tagger(word.lower())) for word in words]\n",
    "\n",
    "# Print the POS tags\n",
    "print(\"Rule-Based POS Tags:\", pos_tags)\n"
   ]
  },
  {
   "cell_type": "code",
   "execution_count": null,
   "id": "c42c12c4",
   "metadata": {},
   "outputs": [],
   "source": []
  }
 ],
 "metadata": {
  "kernelspec": {
   "display_name": "Python 3 (ipykernel)",
   "language": "python",
   "name": "python3"
  },
  "language_info": {
   "codemirror_mode": {
    "name": "ipython",
    "version": 3
   },
   "file_extension": ".py",
   "mimetype": "text/x-python",
   "name": "python",
   "nbconvert_exporter": "python",
   "pygments_lexer": "ipython3",
   "version": "3.10.3"
  }
 },
 "nbformat": 4,
 "nbformat_minor": 5
}
