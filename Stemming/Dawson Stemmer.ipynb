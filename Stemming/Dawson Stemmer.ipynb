{
 "cells": [
  {
   "cell_type": "code",
   "execution_count": 2,
   "id": "492a2ab2",
   "metadata": {},
   "outputs": [
    {
     "name": "stdout",
     "output_type": "stream",
     "text": [
      "Stemmed Words: ['rationalize', 'nationalize', 'optimize', 'running', 'ran', 'runner']\n"
     ]
    }
   ],
   "source": [
    "class DawsonStemmer:\n",
    "    def __init__(self):\n",
    "        self.suffixes = {\n",
    "            'ational': 'ate',\n",
    "            'tional': 'tion',\n",
    "            'enci': 'ence',\n",
    "            'anci': 'ance',\n",
    "            'izer': 'ize',\n",
    "            'bli': 'ble',\n",
    "            'alli': 'al',\n",
    "            'entli': 'ent',\n",
    "            'eli': 'e',\n",
    "            'ousli': 'ous',\n",
    "            'ization': 'ize',\n",
    "            'ation': 'ate',\n",
    "            'ator': 'ate',\n",
    "            'alism': 'al',\n",
    "            'iveness': 'ive',\n",
    "            'fulness': 'ful',\n",
    "            'ousness': 'ous',\n",
    "            'aliti': 'al',\n",
    "            'iviti': 'ive',\n",
    "            'biliti': 'ble',\n",
    "            'logi': 'log'\n",
    "        }\n",
    "\n",
    "    def stem(self, word):\n",
    "        for suffix in self.suffixes:\n",
    "            if word.endswith(suffix):\n",
    "                return word[:-len(suffix)] + self.suffixes[suffix]\n",
    "        return word\n",
    "\n",
    "# Example usage\n",
    "stemmer = DawsonStemmer()\n",
    "\n",
    "# List of words to stem\n",
    "words = [\"rationalization\", \"nationalization\", \"optimization\", \"running\", \"ran\", \"runner\"]\n",
    "\n",
    "# Apply stemming\n",
    "stemmed_words = [stemmer.stem(word) for word in words]\n",
    "print(\"Stemmed Words:\", stemmed_words)\n"
   ]
  },
  {
   "cell_type": "code",
   "execution_count": null,
   "id": "52ad0f30",
   "metadata": {},
   "outputs": [],
   "source": []
  }
 ],
 "metadata": {
  "kernelspec": {
   "display_name": "Python 3 (ipykernel)",
   "language": "python",
   "name": "python3"
  },
  "language_info": {
   "codemirror_mode": {
    "name": "ipython",
    "version": 3
   },
   "file_extension": ".py",
   "mimetype": "text/x-python",
   "name": "python",
   "nbconvert_exporter": "python",
   "pygments_lexer": "ipython3",
   "version": "3.10.3"
  }
 },
 "nbformat": 4,
 "nbformat_minor": 5
}
