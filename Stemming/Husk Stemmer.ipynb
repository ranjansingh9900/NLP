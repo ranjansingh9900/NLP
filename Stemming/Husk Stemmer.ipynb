{
 "cells": [
  {
   "cell_type": "code",
   "execution_count": 3,
   "id": "b2567a46",
   "metadata": {},
   "outputs": [
    {
     "ename": "ModuleNotFoundError",
     "evalue": "No module named 'Stemmer'",
     "output_type": "error",
     "traceback": [
      "\u001b[1;31m---------------------------------------------------------------------------\u001b[0m",
      "\u001b[1;31mModuleNotFoundError\u001b[0m                       Traceback (most recent call last)",
      "Input \u001b[1;32mIn [3]\u001b[0m, in \u001b[0;36m<cell line: 2>\u001b[1;34m()\u001b[0m\n\u001b[0;32m      1\u001b[0m \u001b[38;5;66;03m# Requires installation of PyStemmer\u001b[39;00m\n\u001b[1;32m----> 2\u001b[0m \u001b[38;5;28;01mimport\u001b[39;00m \u001b[38;5;21;01mStemmer\u001b[39;00m\n\u001b[0;32m      4\u001b[0m \u001b[38;5;66;03m# Initialize the Lovins and Paice/Husk stemmers\u001b[39;00m\n\u001b[0;32m      5\u001b[0m lovins \u001b[38;5;241m=\u001b[39m Stemmer\u001b[38;5;241m.\u001b[39mStemmer(\u001b[38;5;124m'\u001b[39m\u001b[38;5;124men\u001b[39m\u001b[38;5;124m'\u001b[39m)\n",
      "\u001b[1;31mModuleNotFoundError\u001b[0m: No module named 'Stemmer'"
     ]
    }
   ],
   "source": [
    "# Requires installation of PyStemmer\n",
    "import Stemmer\n",
    "\n",
    "# Initialize the Lovins and Paice/Husk stemmers\n",
    "lovins = Stemmer.Stemmer('en')\n",
    "paice_husk = Stemmer.Stemmer('paicehusk')\n",
    "\n",
    "# List of words to be stemmed\n",
    "words = [\"running\", \"jumps\", \"easily\", \"fairly\"]\n",
    "\n",
    "# Stem the words using Lovins stemmer\n",
    "lovins_stems = [lovins.stemWord(word) for word in words]\n",
    "\n",
    "# Stem the words using Paice/Husk stemmer\n",
    "paice_husk_stems = [paice_husk.stemWord(word) for word in words]\n",
    "\n",
    "# Print the results\n",
    "print(\"Lovins Stemmer:\", lovins_stems)\n",
    "print(\"Paice/Husk Stemmer:\", paice_husk_stems)\n"
   ]
  },
  {
   "cell_type": "code",
   "execution_count": null,
   "id": "2c0c624f",
   "metadata": {},
   "outputs": [],
   "source": []
  }
 ],
 "metadata": {
  "kernelspec": {
   "display_name": "Python 3 (ipykernel)",
   "language": "python",
   "name": "python3"
  },
  "language_info": {
   "codemirror_mode": {
    "name": "ipython",
    "version": 3
   },
   "file_extension": ".py",
   "mimetype": "text/x-python",
   "name": "python",
   "nbconvert_exporter": "python",
   "pygments_lexer": "ipython3",
   "version": "3.10.3"
  }
 },
 "nbformat": 4,
 "nbformat_minor": 5
}
