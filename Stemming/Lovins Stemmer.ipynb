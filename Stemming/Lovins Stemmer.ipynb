{
 "cells": [
  {
   "cell_type": "code",
   "execution_count": 5,
   "id": "3c002695",
   "metadata": {},
   "outputs": [
    {
     "name": "stdout",
     "output_type": "stream",
     "text": [
      "Lovins Stemmer: ['running', 'jumps', 'easily', 'fairly', 'nationalize', 'singing', 'singl']\n"
     ]
    }
   ],
   "source": [
    "# Basic implementation of the Lovins Stemmer\n",
    "class LovinsStemmer:\n",
    "    def __init__(self):\n",
    "        self.suffixes = {\n",
    "            'alistic': 'al', 'iveness': 'ive', 'fulness': 'ful', 'ousness': 'ous',\n",
    "            'ization': 'ize', 'ational': 'ate', 'ization': 'ize', 'ousness': 'ous',\n",
    "            'iveness': 'ive', 'fulness': 'ful', 'biliti': 'ble', 'alism': 'al',\n",
    "            'ation': 'ate', 'entli': 'ent', 'aliti': 'al', 'ousli': 'ous',\n",
    "            'iviti': 'ive', 'fulli': 'ful', 'enci': 'ence', 'anci': 'ance',\n",
    "            'abli': 'able', 'izer': 'ize', 'ator': 'ate', 'alli': 'al',\n",
    "            'bli': 'ble', 'ogi': 'og', 'li': '', 'enci': 'ence', 'anci': 'ance',\n",
    "            'izer': 'ize', 'bli': 'ble', 'ogi': 'og', 'fulli': 'ful', 'lessli': 'less',\n",
    "            'ousli': 'ous', 'iveness': 'ive', 'ational': 'ate', 'tional': 'tion',\n",
    "            'biliti': 'ble', 'lessli': 'less', 'fulness': 'ful', 'ousness': 'ous',\n",
    "            'iveness': 'ive', 'ousness': 'ous', 'aliti': 'al', 'iviti': 'ive',\n",
    "            'tional': 'tion', 'biliti': 'ble', 'iviti': 'ive', 'fulness': 'ful',\n",
    "            'ousness': 'ous', 'aliti': 'al', 'iviti': 'ive', 'tional': 'tion',\n",
    "            'biliti': 'ble', 'iveness': 'ive', 'ousness': 'ous', 'fulness': 'ful',\n",
    "            'aliti': 'al', 'iviti': 'ive', 'ation': 'ate', 'entli': 'ent',\n",
    "            'aliti': 'al', 'ousli': 'ous', 'iviti': 'ive', 'fulli': 'ful',\n",
    "            'enci': 'ence', 'anci': 'ance', 'abli': 'able', 'izer': 'ize',\n",
    "            'ator': 'ate', 'alli': 'al', 'bli': 'ble', 'ogi': 'og', 'li': ''\n",
    "        }\n",
    "        self.exceptions = {\n",
    "            'skis': 'ski', 'skies': 'sky', 'dying': 'die', 'lying': 'lie',\n",
    "            'tying': 'tie', 'idly': 'idl', 'gently': 'gentl', 'ugly': 'ugli',\n",
    "            'early': 'earli', 'only': 'onli', 'singly': 'singl'\n",
    "        }\n",
    "\n",
    "    def stem(self, word):\n",
    "        if word in self.exceptions:\n",
    "            return self.exceptions[word]\n",
    "\n",
    "        for suffix, replacement in self.suffixes.items():\n",
    "            if word.endswith(suffix):\n",
    "                return word[:-len(suffix)] + replacement\n",
    "\n",
    "        return word\n",
    "\n",
    "# Example usage\n",
    "lovins = LovinsStemmer()\n",
    "words = [\"running\", \"jumps\", \"easily\", \"fairly\", \"nationalization\", \"singing\", \"singly\"]\n",
    "stems = [lovins.stem(word) for word in words]\n",
    "print(\"Lovins Stemmer:\", stems)\n"
   ]
  },
  {
   "cell_type": "code",
   "execution_count": null,
   "id": "67252290",
   "metadata": {},
   "outputs": [],
   "source": []
  }
 ],
 "metadata": {
  "kernelspec": {
   "display_name": "Python 3 (ipykernel)",
   "language": "python",
   "name": "python3"
  },
  "language_info": {
   "codemirror_mode": {
    "name": "ipython",
    "version": 3
   },
   "file_extension": ".py",
   "mimetype": "text/x-python",
   "name": "python",
   "nbconvert_exporter": "python",
   "pygments_lexer": "ipython3",
   "version": "3.10.3"
  }
 },
 "nbformat": 4,
 "nbformat_minor": 5
}
