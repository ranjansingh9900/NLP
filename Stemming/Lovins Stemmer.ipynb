{
 "cells": [
  {
   "cell_type": "code",
   "execution_count": 5,
   "id": "3c002695",
   "metadata": {},
   "outputs": [
    {
     "name": "stdout",
     "output_type": "stream",
     "text": [
      "Porter Stemmer - Stemmed Words: ['run', 'ran', 'runner', 'easili', 'fairli', 'dog', 'cat', 'do', 'happili']\n",
      "Porter Stemmer - Stemmed Sentence: the runner were run happili and easili while the dog were bark .\n",
      "\n",
      "Snowball Stemmer - Stemmed Words: ['run', 'ran', 'runner', 'easili', 'fair', 'dog', 'cat', 'do', 'happili']\n",
      "Snowball Stemmer - Stemmed Sentence: the runner were run happili and easili while the dog were bark .\n",
      "\n",
      "Lovins Stemmer - Stemmed Words: ['runn', 'ran', 'runner', 'easi', 'fair', 'dog', 'cat', 'do', 'happi']\n",
      "Lovins Stemmer - Stemmed Sentence: The runner were runn happi and easi while the dog were bark .\n"
     ]
    },
    {
     "name": "stderr",
     "output_type": "stream",
     "text": [
      "[nltk_data] Downloading package punkt to\n",
      "[nltk_data]     C:\\Users\\ranja\\AppData\\Roaming\\nltk_data...\n",
      "[nltk_data]   Package punkt is already up-to-date!\n"
     ]
    }
   ],
   "source": [
    "import nltk\n",
    "from nltk.stem import PorterStemmer, SnowballStemmer\n",
    "from nltk.tokenize import word_tokenize\n",
    "import re\n",
    "\n",
    "# Ensure you have the necessary NLTK data\n",
    "nltk.download('punkt')\n",
    "\n",
    "# List of words to stem\n",
    "words = [\"running\", \"ran\", \"runner\", \"easily\", \"fairly\", \"dogs\", \"cats\", \"doing\", \"happily\"]\n",
    "\n",
    "# Sample sentence\n",
    "sentence = \"The runners were running happily and easily while the dogs were barking.\"\n",
    "\n",
    "# Tokenize the sentence\n",
    "words_in_sentence = word_tokenize(sentence)\n",
    "\n",
    "# Porter Stemmer\n",
    "porter_stemmer = PorterStemmer()\n",
    "stemmed_words_porter = [porter_stemmer.stem(word) for word in words]\n",
    "stemmed_sentence_porter = [porter_stemmer.stem(word) for word in words_in_sentence]\n",
    "\n",
    "# Snowball Stemmer\n",
    "snowball_stemmer = SnowballStemmer('english')\n",
    "stemmed_words_snowball = [snowball_stemmer.stem(word) for word in words]\n",
    "stemmed_sentence_snowball = [snowball_stemmer.stem(word) for word in words_in_sentence]\n",
    "\n",
    "# Lovins Stemmer (Custom Implementation)\n",
    "class LovinsStemmer:\n",
    "    def __init__(self):\n",
    "        self.suffixes = {\n",
    "            'ing': '',\n",
    "            'ly': '',\n",
    "            'ed': '',\n",
    "            'ious': '',\n",
    "            'ies': 'y',\n",
    "            'ive': '',\n",
    "            'es': '',\n",
    "            's': '',\n",
    "            'ment': ''\n",
    "        }\n",
    "\n",
    "    def stem(self, word):\n",
    "        for suffix in self.suffixes:\n",
    "            if word.endswith(suffix):\n",
    "                return re.sub(f'{suffix}$', self.suffixes[suffix], word)\n",
    "        return word\n",
    "\n",
    "lovins_stemmer = LovinsStemmer()\n",
    "stemmed_words_lovins = [lovins_stemmer.stem(word) for word in words]\n",
    "stemmed_sentence_lovins = [lovins_stemmer.stem(word) for word in words_in_sentence]\n",
    "\n",
    "# Print results\n",
    "print(\"Porter Stemmer - Stemmed Words:\", stemmed_words_porter)\n",
    "print(\"Porter Stemmer - Stemmed Sentence:\", ' '.join(stemmed_sentence_porter))\n",
    "print()\n",
    "print(\"Snowball Stemmer - Stemmed Words:\", stemmed_words_snowball)\n",
    "print(\"Snowball Stemmer - Stemmed Sentence:\", ' '.join(stemmed_sentence_snowball))\n",
    "print()\n",
    "print(\"Lovins Stemmer - Stemmed Words:\", stemmed_words_lovins)\n",
    "print(\"Lovins Stemmer - Stemmed Sentence:\", ' '.join(stemmed_sentence_lovins))\n"
   ]
  },
  {
   "cell_type": "code",
   "execution_count": null,
   "id": "67252290",
   "metadata": {},
   "outputs": [],
   "source": []
  }
 ],
 "metadata": {
  "kernelspec": {
   "display_name": "Python 3 (ipykernel)",
   "language": "python",
   "name": "python3"
  },
  "language_info": {
   "codemirror_mode": {
    "name": "ipython",
    "version": 3
   },
   "file_extension": ".py",
   "mimetype": "text/x-python",
   "name": "python",
   "nbconvert_exporter": "python",
   "pygments_lexer": "ipython3",
   "version": "3.10.3"
  }
 },
 "nbformat": 4,
 "nbformat_minor": 5
}
