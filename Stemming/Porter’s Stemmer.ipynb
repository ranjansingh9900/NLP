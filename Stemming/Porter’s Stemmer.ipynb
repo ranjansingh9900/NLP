{
 "cells": [
  {
   "cell_type": "code",
   "execution_count": 1,
   "id": "e6246edd",
   "metadata": {},
   "outputs": [
    {
     "name": "stdout",
     "output_type": "stream",
     "text": [
      "Stemmed Words: ['run', 'ran', 'runner', 'easili', 'fairli', 'dog', 'cat', 'do', 'happili']\n",
      "Stemmed Sentence: the runner were run happili and easili while the dog were bark .\n"
     ]
    },
    {
     "name": "stderr",
     "output_type": "stream",
     "text": [
      "[nltk_data] Downloading package punkt to\n",
      "[nltk_data]     C:\\Users\\ranja\\AppData\\Roaming\\nltk_data...\n",
      "[nltk_data]   Package punkt is already up-to-date!\n"
     ]
    }
   ],
   "source": [
    "import nltk\n",
    "from nltk.stem import PorterStemmer\n",
    "from nltk.tokenize import word_tokenize\n",
    "\n",
    "# Ensure you have the necessary NLTK data\n",
    "nltk.download('punkt')\n",
    "\n",
    "# Initialize the PorterStemmer\n",
    "stemmer = PorterStemmer()\n",
    "\n",
    "# List of words to stem\n",
    "words = [\"running\", \"ran\", \"runner\", \"easily\", \"fairly\", \"dogs\", \"cats\", \"doing\", \"happily\"]\n",
    "\n",
    "# Apply stemming\n",
    "stemmed_words = [stemmer.stem(word) for word in words]\n",
    "print(\"Stemmed Words:\", stemmed_words)\n",
    "\n",
    "# Sample sentence\n",
    "sentence = \"The runners were running happily and easily while the dogs were barking.\"\n",
    "\n",
    "# Tokenize the sentence\n",
    "words_in_sentence = word_tokenize(sentence)\n",
    "\n",
    "# Apply stemming\n",
    "stemmed_sentence = [stemmer.stem(word) for word in words_in_sentence]\n",
    "print(\"Stemmed Sentence:\", ' '.join(stemmed_sentence))\n"
   ]
  },
  {
   "cell_type": "code",
   "execution_count": null,
   "id": "7172c1e8",
   "metadata": {},
   "outputs": [],
   "source": []
  }
 ],
 "metadata": {
  "kernelspec": {
   "display_name": "Python 3 (ipykernel)",
   "language": "python",
   "name": "python3"
  },
  "language_info": {
   "codemirror_mode": {
    "name": "ipython",
    "version": 3
   },
   "file_extension": ".py",
   "mimetype": "text/x-python",
   "name": "python",
   "nbconvert_exporter": "python",
   "pygments_lexer": "ipython3",
   "version": "3.10.3"
  }
 },
 "nbformat": 4,
 "nbformat_minor": 5
}
