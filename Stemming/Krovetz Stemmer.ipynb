{
 "cells": [
  {
   "cell_type": "code",
   "execution_count": 4,
   "id": "558f165e",
   "metadata": {},
   "outputs": [
    {
     "name": "stdout",
     "output_type": "stream",
     "text": [
      "Collecting PyStemmer\n",
      "  Using cached PyStemmer-2.2.0.1.tar.gz (303 kB)\n",
      "  Preparing metadata (setup.py): started\n",
      "  Preparing metadata (setup.py): finished with status 'done'\n",
      "Building wheels for collected packages: PyStemmer\n",
      "  Building wheel for PyStemmer (setup.py): started\n",
      "  Building wheel for PyStemmer (setup.py): finished with status 'error'\n",
      "  Running setup.py clean for PyStemmer\n",
      "Failed to build PyStemmer\n"
     ]
    },
    {
     "name": "stderr",
     "output_type": "stream",
     "text": [
      "  error: subprocess-exited-with-error\n",
      "  \n",
      "  python setup.py bdist_wheel did not run successfully.\n",
      "  exit code: 1\n",
      "  \n",
      "  [8 lines of output]\n",
      "  running bdist_wheel\n",
      "  running build\n",
      "  running build_ext\n",
      "  cythoning src/Stemmer.pyx to src\\Stemmer.c\n",
      "  c:\\users\\ranja\\appdata\\local\\temp\\pip-install-oph8mkrv\\pystemmer_22936e6d8ef844a4a7865af54e12acce\\.eggs\\cython-0.29.37-py3.10.egg\\Cython\\Compiler\\Main.py:369: FutureWarning: Cython directive 'language_level' not set, using 2 for now (Py2). This will change in a later release! File: C:\\Users\\ranja\\AppData\\Local\\Temp\\pip-install-oph8mkrv\\pystemmer_22936e6d8ef844a4a7865af54e12acce\\src\\Stemmer.pyx\n",
      "    tree = Parsing.p_module(s, pxd, full_module_name)\n",
      "  building 'Stemmer' extension\n",
      "  error: Microsoft Visual C++ 14.0 or greater is required. Get it with \"Microsoft C++ Build Tools\": https://visualstudio.microsoft.com/visual-cpp-build-tools/\n",
      "  [end of output]\n",
      "  \n",
      "  note: This error originates from a subprocess, and is likely not a problem with pip.\n",
      "  ERROR: Failed building wheel for PyStemmer\n",
      "ERROR: Could not build wheels for PyStemmer, which is required to install pyproject.toml-based projects\n",
      "\n",
      "[notice] A new release of pip is available: 24.0 -> 24.1.2\n",
      "[notice] To update, run: python.exe -m pip install --upgrade pip\n"
     ]
    },
    {
     "ename": "ImportError",
     "evalue": "cannot import name 'stemmer' from 'stemming.porter2' (C:\\python310\\lib\\site-packages\\stemming\\porter2.py)",
     "output_type": "error",
     "traceback": [
      "\u001b[1;31m---------------------------------------------------------------------------\u001b[0m",
      "\u001b[1;31mImportError\u001b[0m                               Traceback (most recent call last)",
      "Input \u001b[1;32mIn [4]\u001b[0m, in \u001b[0;36m<cell line: 3>\u001b[1;34m()\u001b[0m\n\u001b[0;32m      1\u001b[0m get_ipython()\u001b[38;5;241m.\u001b[39msystem(\u001b[38;5;124m'\u001b[39m\u001b[38;5;124mpip install PyStemmer\u001b[39m\u001b[38;5;124m'\u001b[39m)\n\u001b[0;32m      2\u001b[0m \u001b[38;5;28;01mfrom\u001b[39;00m \u001b[38;5;21;01mstemming\u001b[39;00m\u001b[38;5;21;01m.\u001b[39;00m\u001b[38;5;21;01mporter2\u001b[39;00m \u001b[38;5;28;01mimport\u001b[39;00m stem\n\u001b[1;32m----> 3\u001b[0m \u001b[38;5;28;01mfrom\u001b[39;00m \u001b[38;5;21;01mstemming\u001b[39;00m\u001b[38;5;21;01m.\u001b[39;00m\u001b[38;5;21;01mporter2\u001b[39;00m \u001b[38;5;28;01mimport\u001b[39;00m stemmer \u001b[38;5;28;01mas\u001b[39;00m py_stemmer\n\u001b[0;32m      5\u001b[0m \u001b[38;5;66;03m# Initialize the Krovetz Stemmer\u001b[39;00m\n\u001b[0;32m      6\u001b[0m krovetz_stemmer \u001b[38;5;241m=\u001b[39m py_stemmer(\u001b[38;5;124m'\u001b[39m\u001b[38;5;124mkrovetz\u001b[39m\u001b[38;5;124m'\u001b[39m)\n",
      "\u001b[1;31mImportError\u001b[0m: cannot import name 'stemmer' from 'stemming.porter2' (C:\\python310\\lib\\site-packages\\stemming\\porter2.py)"
     ]
    }
   ],
   "source": [
    "!pip install PyStemmer\n",
    "from stemming.porter2 import stem\n",
    "from stemming.porter2 import stemmer as py_stemmer\n",
    "\n",
    "# Initialize the Krovetz Stemmer\n",
    "krovetz_stemmer = py_stemmer('krovetz')\n",
    "\n",
    "# Example words to stem\n",
    "words = [\"running\", \"ran\", \"runner\", \"easily\", \"fairly\", \"dogs\", \"cats\", \"doing\", \"happily\"]\n",
    "\n",
    "# Apply stemming\n",
    "stemmed_words = [krovetz_stemmer.stem(word) for word in words]\n",
    "print(\"Krovetz Stemmer - Stemmed Words:\", stemmed_words)\n",
    "\n",
    "# Example sentence\n",
    "sentence = \"The runners were running happily and easily while the dogs were barking.\"\n",
    "\n",
    "# Tokenize the sentence\n",
    "words_in_sentence = sentence.split()  # You can also use NLTK's word_tokenize if preferred\n",
    "\n",
    "# Apply stemming to sentence\n",
    "stemmed_sentence = [krovetz_stemmer.stem(word) for word in words_in_sentence]\n",
    "print(\"Krovetz Stemmer - Stemmed Sentence:\", ' '.join(stemmed_sentence))\n"
   ]
  },
  {
   "cell_type": "code",
   "execution_count": null,
   "id": "70d376c7",
   "metadata": {},
   "outputs": [],
   "source": []
  }
 ],
 "metadata": {
  "kernelspec": {
   "display_name": "Python 3 (ipykernel)",
   "language": "python",
   "name": "python3"
  },
  "language_info": {
   "codemirror_mode": {
    "name": "ipython",
    "version": 3
   },
   "file_extension": ".py",
   "mimetype": "text/x-python",
   "name": "python",
   "nbconvert_exporter": "python",
   "pygments_lexer": "ipython3",
   "version": "3.10.3"
  }
 },
 "nbformat": 4,
 "nbformat_minor": 5
}
