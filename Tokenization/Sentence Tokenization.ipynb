{
 "cells": [
  {
   "cell_type": "code",
   "execution_count": 1,
   "id": "9cb8eb4f",
   "metadata": {},
   "outputs": [
    {
     "name": "stdout",
     "output_type": "stream",
     "text": [
      "['Natural Language Processing is fascinating.', 'It enables machines to understand human language.', 'Sentence tokenization is a key step in NLP.']\n"
     ]
    }
   ],
   "source": [
    "# First, make sure to install the NLTK library\n",
    "# You can install it using pip if you haven't already:\n",
    "# !pip install nltk\n",
    "\n",
    "import nltk\n",
    "# nltk.download('punkt')  # Download the necessary NLTK data files\n",
    "\n",
    "from nltk.tokenize import sent_tokenize\n",
    "\n",
    "# Example paragraph\n",
    "paragraph = \"Natural Language Processing is fascinating. It enables machines to understand human language. Sentence tokenization is a key step in NLP.\"\n",
    "\n",
    "# Sentence tokenization\n",
    "sentences = sent_tokenize(paragraph)\n",
    "\n",
    "# Print the sentences\n",
    "print(sentences)\n"
   ]
  },
  {
   "cell_type": "code",
   "execution_count": null,
   "id": "40ded01f",
   "metadata": {},
   "outputs": [],
   "source": []
  }
 ],
 "metadata": {
  "kernelspec": {
   "display_name": "Python 3 (ipykernel)",
   "language": "python",
   "name": "python3"
  },
  "language_info": {
   "codemirror_mode": {
    "name": "ipython",
    "version": 3
   },
   "file_extension": ".py",
   "mimetype": "text/x-python",
   "name": "python",
   "nbconvert_exporter": "python",
   "pygments_lexer": "ipython3",
   "version": "3.10.3"
  }
 },
 "nbformat": 4,
 "nbformat_minor": 5
}
